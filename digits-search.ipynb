{
 "cells": [
  {
   "cell_type": "code",
   "execution_count": 2,
   "metadata": {},
   "outputs": [],
   "source": [
    "from sklearn.datasets import fetch_openml\n",
    "import pandas as pd\n",
    "import matplotlib.pyplot as plt\n",
    "import numpy as np\n"
   ]
  },
  {
   "cell_type": "code",
   "execution_count": 3,
   "metadata": {},
   "outputs": [],
   "source": [
    "mnist = fetch_openml('mnist_784')"
   ]
  },
  {
   "cell_type": "code",
   "execution_count": 4,
   "metadata": {},
   "outputs": [],
   "source": [
    "y_df = pd.DataFrame(mnist['target'])\n",
    "X_df = pd.DataFrame(mnist['data']).astype(float)\n",
    "data_df = pd.concat([y_df, X_df], axis=1)"
   ]
  },
  {
   "cell_type": "code",
   "execution_count": 5,
   "metadata": {},
   "outputs": [
    {
     "data": {
      "text/plain": [
       "class\n",
       "1    7877\n",
       "7    7293\n",
       "3    7141\n",
       "2    6990\n",
       "9    6958\n",
       "0    6903\n",
       "6    6876\n",
       "8    6825\n",
       "4    6824\n",
       "5    6313\n",
       "Name: count, dtype: int64"
      ]
     },
     "execution_count": 5,
     "metadata": {},
     "output_type": "execute_result"
    }
   ],
   "source": [
    "data_df.iloc[:,0].value_counts()"
   ]
  },
  {
   "cell_type": "code",
   "execution_count": 6,
   "metadata": {},
   "outputs": [
    {
     "data": {
      "text/plain": [
       "<matplotlib.image.AxesImage at 0x1b998183f70>"
      ]
     },
     "execution_count": 6,
     "metadata": {},
     "output_type": "execute_result"
    },
    {
     "data": {
      "image/png": "[encoded data removed]",
      "text/plain": [
       "<Figure size 640x480 with 1 Axes>"
      ]
     },
     "metadata": {},
     "output_type": "display_data"
    }
   ],
   "source": [
    "first_image = data_df.iloc[0, 1:].to_numpy(dtype=float)\n",
    "first_image = first_image.reshape((28, 28))\n",
    "plt.imshow(first_image)"
   ]
  },
  {
   "cell_type": "code",
   "execution_count": 7,
   "metadata": {},
   "outputs": [],
   "source": [
    "X = data_df.iloc[:, 1:]\n",
    "y = data_df.iloc[:, 0]"
   ]
  },
  {
   "cell_type": "code",
   "execution_count": 8,
   "metadata": {},
   "outputs": [],
   "source": [
    "from sklearn.model_selection import train_test_split\n",
    "X_train_df, X_test_df, y_train_df, y_test_df = train_test_split(X, y, test_size=1/7, random_state=42)\n"
   ]
  },
  {
   "cell_type": "code",
   "execution_count": 9,
   "metadata": {},
   "outputs": [],
   "source": [
    "train_df = pd.concat([y_train_df, X_train_df], axis=1)\n",
    "test_df = pd.concat([y_test_df, X_test_df], axis=1)"
   ]
  },
  {
   "cell_type": "code",
   "execution_count": 10,
   "metadata": {},
   "outputs": [],
   "source": [
    "from skimage.transform import AffineTransform, warp\n",
    "\n",
    "def shift(X_train_df, y_train_df, vectors):\n",
    "    # Convert DataFrames to numpy arrays\n",
    "    X_train_1D = X_train_df.to_numpy()\n",
    "    X_train_2D = X_train_1D.reshape((len(X_train_1D), 28, 28))\n",
    "    y_train = y_train_df.to_numpy()\n",
    "    \n",
    "    X_shifted = []\n",
    "    y_shifted = []\n",
    "    \n",
    "    for index, img in enumerate(X_train_2D):\n",
    "        for vector in vectors:\n",
    "            transform = AffineTransform(translation=vector)\n",
    "            shifted_img = warp(img, transform, mode='edge', cval=0, preserve_range=True)\n",
    "            X_shifted.append(shifted_img)\n",
    "            y_shifted.append(y_train[index])\n",
    "    \n",
    "    return np.array(X_shifted), np.array(y_shifted)"
   ]
  },
  {
   "cell_type": "code",
   "execution_count": 11,
   "metadata": {},
   "outputs": [],
   "source": [
    "X_augmented_2D ,y_augmented = shift(X_train_df, y_train_df, [])"
   ]
  },
  {
   "cell_type": "code",
   "execution_count": 12,
   "metadata": {},
   "outputs": [
    {
     "data": {
      "text/plain": [
       "(0, 784)"
      ]
     },
     "execution_count": 12,
     "metadata": {},
     "output_type": "execute_result"
    }
   ],
   "source": [
    "X_augmented_1D = X_augmented_2D.reshape((len(X_augmented_2D),28*28))\n",
    "X_augmented_1D.shape"
   ]
  },
  {
   "cell_type": "code",
   "execution_count": 13,
   "metadata": {},
   "outputs": [],
   "source": [
    "from sklearn.model_selection import KFold\n",
    "def create_kfolds(X_train_df, y_train_df, X_augmented, y_augmented, cv=3):\n",
    "    kf = KFold(n_splits=cv, shuffle=True, random_state=42)\n",
    "    \n",
    "    train_folds = []\n",
    "    val_folds = []\n",
    "\n",
    "    X_augmented_array = X_augmented.to_numpy() if isinstance(X_augmented, pd.DataFrame) else X_augmented\n",
    "    y_augmented_array = y_augmented.to_numpy() if isinstance(y_augmented, pd.Series) else y_augmented\n",
    "\n",
    "    if len(X_augmented_array) >= len(X_train_df) * cv:\n",
    "        X_val = X_train_df.to_numpy()\n",
    "        y_val = y_train_df.to_numpy()\n",
    "        print(len(X_train_df))\n",
    "        for _ in range(cv):\n",
    "            train_folds.append((X_augmented_array, y_augmented_array))\n",
    "            val_folds.append((X_val, y_val))\n",
    "            \n",
    "    elif len(X_augmented_array) > 0:\n",
    "        for train_index, val_index in kf.split(X_train_df):\n",
    "            X_train = X_train_df.iloc[train_index].to_numpy()\n",
    "            y_train = y_train_df.iloc[train_index].to_numpy()\n",
    "            \n",
    "            X_val = X_train_df.iloc[val_index].to_numpy()\n",
    "            y_val = y_train_df.iloc[val_index].to_numpy()\n",
    "            \n",
    "            # Combine original and augmented data\n",
    "            X_combined_train = np.concatenate((X_train, X_augmented_array))\n",
    "            y_combined_train = np.concatenate((y_train, y_augmented_array))\n",
    "            \n",
    "            train_folds.append((X_combined_train, y_combined_train))\n",
    "            val_folds.append((X_val, y_val))\n",
    "    else:\n",
    "        for train_index, val_index in kf.split(X_train_df):\n",
    "            X_train = X_train_df.iloc[train_index].to_numpy()\n",
    "            y_train = y_train_df.iloc[train_index].to_numpy()\n",
    "            \n",
    "            X_val = X_train_df.iloc[val_index].to_numpy()\n",
    "            y_val = y_train_df.iloc[val_index].to_numpy()\n",
    "            \n",
    "            train_folds.append((X_train, y_train))\n",
    "            val_folds.append((X_val, y_val))\n",
    "            \n",
    "    return train_folds, val_folds\n"
   ]
  },
  {
   "cell_type": "code",
   "execution_count": 14,
   "metadata": {},
   "outputs": [],
   "source": [
    "train_folds, val_folds = create_kfolds(\n",
    "    X_train_df=X_train_df,\n",
    "    y_train_df=y_train_df,\n",
    "    X_augmented=X_augmented_1D,\n",
    "    y_augmented=y_augmented\n",
    "    )"
   ]
  },
  {
   "cell_type": "code",
   "execution_count": 15,
   "metadata": {},
   "outputs": [
    {
     "name": "stdout",
     "output_type": "stream",
     "text": [
      "9\n"
     ]
    },
    {
     "data": {
      "image/png": "[encoded data removed]",
      "text/plain": [
       "<Figure size 640x480 with 1 Axes>"
      ]
     },
     "metadata": {},
     "output_type": "display_data"
    }
   ],
   "source": [
    "images, labels = train_folds[0]\n",
    "index = 12423\n",
    "plt.imshow(images[index].reshape((28,28)))\n",
    "print(labels[index])"
   ]
  },
  {
   "cell_type": "code",
   "execution_count": 16,
   "metadata": {},
   "outputs": [
    {
     "name": "stdout",
     "output_type": "stream",
     "text": [
      "6\n"
     ]
    },
    {
     "data": {
      "image/png": "[encoded data removed]",
      "text/plain": [
       "<Figure size 640x480 with 1 Axes>"
      ]
     },
     "metadata": {},
     "output_type": "display_data"
    }
   ],
   "source": [
    "images, labels = val_folds[0]\n",
    "index = 11234\n",
    "plt.imshow(images[index].reshape((28,28)))\n",
    "print(labels[index])"
   ]
  },
  {
   "cell_type": "code",
   "execution_count": 17,
   "metadata": {},
   "outputs": [],
   "source": [
    "def one_training(sgd_clf, x_train, y_train, x_val, y_val, classes=None):\n",
    "    if classes is not None:\n",
    "        sgd_clf.partial_fit(x_train, y_train, classes=classes)\n",
    "    else:\n",
    "        sgd_clf.partial_fit(x_train, y_train)\n",
    "    score = sgd_clf.score(x_val, y_val)\n",
    "    return score"
   ]
  },
  {
   "cell_type": "code",
   "execution_count": 18,
   "metadata": {},
   "outputs": [],
   "source": [
    "X_train = X_train_df.to_numpy()\n",
    "y_train = y_train_df.to_numpy().astype(int)"
   ]
  },
  {
   "cell_type": "code",
   "execution_count": 1,
   "metadata": {},
   "outputs": [
    {
     "data": {
      "text/plain": [
       "12"
      ]
     },
     "execution_count": 1,
     "metadata": {},
     "output_type": "execute_result"
    }
   ],
   "source": [
    "import multiprocessing\n",
    "cores = multiprocessing.cpu_count()/2\n",
    "cores"
   ]
  },
  {
   "cell_type": "code",
   "execution_count": 21,
   "metadata": {},
   "outputs": [
    {
     "name": "stderr",
     "output_type": "stream",
     "text": [
      "d:\\anaconda3\\envs\\ml_getting_start\\lib\\site-packages\\sklearn\\linear_model\\_stochastic_gradient.py:744: ConvergenceWarning: Maximum number of iteration reached before convergence. Consider increasing max_iter to improve the fit.\n",
      "  warnings.warn(\n",
      "d:\\anaconda3\\envs\\ml_getting_start\\lib\\site-packages\\sklearn\\linear_model\\_stochastic_gradient.py:744: ConvergenceWarning: Maximum number of iteration reached before convergence. Consider increasing max_iter to improve the fit.\n",
      "  warnings.warn(\n"
     ]
    }
   ],
   "source": [
    "from sklearn import metrics\n",
    "from sklearn.linear_model import SGDClassifier\n",
    "from sklearn.preprocessing import StandardScaler,MinMaxScaler\n",
    "from sklearn.pipeline import Pipeline\n",
    "from sklearn.impute import SimpleImputer\n",
    "from sklearn.model_selection import GridSearchCV\n",
    "\n",
    "param_grid = {\n",
    "    'loss': ['hinge', 'log_loss'],\n",
    "    'penalty': ['l2', 'l1', 'elasticnet'],\n",
    "    'alpha': [0.0001, 0.001],\n",
    "    'learning_rate': ['constant', 'optimal'],\n",
    "    'max_iter': [1000, 2000],\n",
    "}\n",
    "grid_search = GridSearchCV(SGDClassifier(), param_grid, cv=3, n_jobs=cores)\n",
    "grid_search.fit(X_train,y_train)\n",
    "print(grid_search.best_params_)\n",
    "\n",
    "# sgd_clf = SGDClassifier(loss='log_loss')\n",
    "\n",
    "# pipeline = Pipeline([\n",
    "#     ('imputer', SimpleImputer(strategy='mean')),\n",
    "#     ('scaler', StandardScaler()),\n",
    "# ])\n",
    "\n",
    "# for fold_index, (X_combined_train, y_combined_train) in enumerate(train_folds):\n",
    "#     X_val, y_val = val_folds[fold_index]\n",
    "    \n",
    "#     X_combined_train_transformed = pipeline.fit_transform(X_combined_train)\n",
    "    \n",
    "#     sgd_clf.partial_fit(X_combined_train_transformed, y_combined_train, classes=np.unique(y_combined_train))\n",
    "\n",
    "#     X_val_transformed = pipeline.transform(X_val)\n",
    "    \n",
    "#     score = sgd_clf.score(X_val_transformed, y_val)\n",
    "    \n",
    "#     print(f\"Fold {fold_index + 1}, Validation Accuracy: {score:f}\")"
   ]
  },
  {
   "cell_type": "code",
   "execution_count": null,
   "metadata": {},
   "outputs": [],
   "source": [
    "def predict_digit_recognizer():\n",
    "    test_df = pd.read_csv('digit-recognizer\\\\test.csv')\n",
    "    X_test = pipeline.fit_transform(test_df.to_numpy())\n",
    "    pred = sgd_clf.predict(X_test)\n",
    "    predictions_df = pd.DataFrame({\n",
    "        'ImageId': range(1, len(pred) + 1),\n",
    "        'Label': pred\n",
    "    })\n",
    "\n",
    "    # Save the DataFrame to a CSV file\n",
    "    predictions_df.to_csv('my_predictions.csv', index=False)"
   ]
  }
 ],
 "metadata": {
  "kernelspec": {
   "display_name": "ml_getting_start",
   "language": "python",
   "name": "python3"
  },
  "language_info": {
   "codemirror_mode": {
    "name": "ipython",
    "version": 3
   },
   "file_extension": ".py",
   "mimetype": "text/x-python",
   "name": "python",
   "nbconvert_exporter": "python",
   "pygments_lexer": "ipython3",
   "version": "3.10.14"
  }
 },
 "nbformat": 4,
 "nbformat_minor": 2
}
